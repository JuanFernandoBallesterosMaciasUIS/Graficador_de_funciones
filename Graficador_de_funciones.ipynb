{
  "nbformat": 4,
  "nbformat_minor": 0,
  "metadata": {
    "colab": {
      "provenance": [],
      "authorship_tag": "ABX9TyNl3/U9K3O0f9dhjYdwxnGr",
      "include_colab_link": true
    },
    "kernelspec": {
      "name": "python3",
      "display_name": "Python 3"
    },
    "language_info": {
      "name": "python"
    }
  },
  "cells": [
    {
      "cell_type": "markdown",
      "metadata": {
        "id": "view-in-github",
        "colab_type": "text"
      },
      "source": [
        "<a href=\"https://colab.research.google.com/github/JuanFernandoBallesterosMaciasUIS/Graficador_de_funciones/blob/main/Graficador_de_funciones.ipynb\" target=\"_parent\"><img src=\"https://colab.research.google.com/assets/colab-badge.svg\" alt=\"Open In Colab\"/></a>"
      ]
    },
    {
      "cell_type": "markdown",
      "source": [
        "# Graficador de funciones"
      ],
      "metadata": {
        "id": "s3tDBtGpLGUb"
      }
    },
    {
      "cell_type": "code",
      "execution_count": 8,
      "metadata": {
        "colab": {
          "base_uri": "https://localhost:8080/",
          "height": 659
        },
        "id": "p_ukCEn-JvVr",
        "outputId": "60c7a3aa-ef30-4674-f82f-0c67ced6162f"
      },
      "outputs": [
        {
          "name": "stdout",
          "output_type": "stream",
          "text": [
            "+------------------------------------------+\n",
            "|-- Bienvenido al graficador de funciones -|\n",
            "+------------------------------------------+\n",
            "\n",
            "+------------------ MENU ------------------+\n",
            "| 1- Función Lineal                        |\n",
            "| 2- Función Cuadratica                    |\n",
            "| 3- Función Cubica                        |\n",
            "| 4- Función Exponencial                   |\n",
            "| 5- Función Logaritmica                   |\n",
            "| 6- Función Trigonometrica                |\n",
            "+------------------------------------------+\n",
            "Digite el número de la función que deseas ejecutar :3\n",
            "+----------------------------+\n",
            "|-      Función Cubica      -|\n",
            "|-  y = ax³ + bx² + cx + d  -|\n",
            "+----------------------------+\n",
            "Digite el valor de a: 4\n",
            "Digite el valor de b: 2\n",
            "Digite el valor de c: 1\n",
            "Digite el valor de d: 3\n"
          ]
        },
        {
          "output_type": "display_data",
          "data": {
            "text/plain": [
              "<Figure size 432x288 with 1 Axes>"
            ],
            "image/png": "[encoded data removed]"
          },
          "metadata": {
            "needs_background": "light"
          }
        }
      ],
      "source": [
        "# Programa para graficar una linea recta, con base en la ecuación y = mx + b\n",
        "# m es la pendiente de la recta\n",
        "# b es el punto de corte con eje y\n",
        "\n",
        "# Importamos la libreria matplotlib y numpy y le asignamos un alias\n",
        "import numpy as np\n",
        "import matplotlib.pyplot as plt\n",
        "# Número de puntos a graficar\n",
        "N = 100\n",
        "\n",
        "# Función para calcular los valores de y\n",
        "def funcion_lineal(m, b, x):\n",
        "  return m*x + b\n",
        "\n",
        "def funcion_cuadratica(a, b, c, x):\n",
        "  return a*x**2 + b*x + c\n",
        "\n",
        "def funcion_cubica(a, b, c, d, x):\n",
        "  return a*x**3 + b*x**2 + c*x +d\n",
        "\n",
        "# input\n",
        "print(\"+------------------------------------------+\")\n",
        "print(\"|-- Bienvenido al graficador de funciones -|\")\n",
        "print(\"+------------------------------------------+\")\n",
        "print()\n",
        "print(\"+------------------ MENU ------------------+\")\n",
        "print(\"| 1- Función Lineal                        |\")\n",
        "print(\"| 2- Función Cuadratica                    |\")\n",
        "print(\"| 3- Función Cubica                        |\")\n",
        "print(\"| 4- Función Exponencial                   |\")\n",
        "print(\"| 5- Función Logaritmica                   |\")\n",
        "print(\"| 6- Función Trigonometrica                |\")\n",
        "print(\"+------------------------------------------+\")\n",
        "\n",
        "opc = int(input(\"Digite el número de la función que deseas ejecutar :\"))\n",
        "\n",
        "\n",
        "if opc == 1:\n",
        "  #input\n",
        "  print(\"+------------------+\")\n",
        "  print(\"|--Funcion lineal--|\")\n",
        "  print(\"|--y = mx + b------|\")\n",
        "  print(\"+------------------+\")\n",
        "  m = int(input(\"Digite el valor de la pendiente: \"))\n",
        "  b = int(input(\"Digite el valor del punto de corte con el eje y: \"))\n",
        "\n",
        "  # Processing - graphication\n",
        "  x = np.linspace(-10,10,num=N)\n",
        "  y = funcion_lineal(m,b,x)\n",
        "\n",
        "  plt.plot(x,y, color = \"r\")\n",
        "  plt.xlabel(\"x\")\n",
        "  plt.ylabel(\"y\")\n",
        "  plt.title(\"Función lineal: y = mx + b\")\n",
        "  plt.grid()\n",
        "  plt.axhline(y=0, color=\"b\")\n",
        "  plt.axvline(x=0, color=\"b\")\n",
        "  plt.show()\n",
        "\n",
        "\n",
        "\n",
        "if opc == 2:\n",
        "  #input\n",
        "  print(\"+----------------------+\")\n",
        "  print(\"|- Función Cuadratica -|\")\n",
        "  print(\"|-  y = ax² + bx + c  -|\")\n",
        "  print(\"+----------------------+\")\n",
        "  a = int(input(\"Digite el valor de a: \"))\n",
        "  b = int(input(\"Digite el valor de b: \"))\n",
        "  c = int(input(\"Digite el valor de c: \"))\n",
        "  \n",
        "  \n",
        "  # Processing - graphication\n",
        "  x = np.linspace(-10,10,num=N)\n",
        "  y = funcion_cuadratica(a, b, c, x)\n",
        "  \n",
        "  plt.plot(x,y, color = \"r\")\n",
        "  plt.xlabel(\"x\")\n",
        "  plt.ylabel(\"y\")\n",
        "  plt.title(\"Función Cuadratica: y = ax² + bx + c\")\n",
        "  plt.grid()\n",
        "  plt.axhline(y=0, color=\"b\")\n",
        "  plt.axvline(x=0, color=\"b\")\n",
        "  plt.show()\n",
        "\n",
        "if opc == 3:\n",
        "  #input\n",
        "  print(\"+----------------------------+\")\n",
        "  print(\"|-      Función Cubica      -|\")\n",
        "  print(\"|-  y = ax³ + bx² + cx + d  -|\")\n",
        "  print(\"+----------------------------+\")\n",
        "  \n",
        "  a = int(input(\"Digite el valor de a: \"))\n",
        "  b = int(input(\"Digite el valor de b: \"))\n",
        "  c = int(input(\"Digite el valor de c: \"))\n",
        "  d = int(input(\"Digite el valor de d: \"))\n",
        "  \n",
        "  \n",
        "  # Processing - graphication\n",
        "  x = np.linspace(-10,10,num=N)\n",
        "  y = funcion_cubica(a, b, c, d, x)\n",
        "  \n",
        "  plt.plot(x,y, color = \"r\")\n",
        "  plt.xlabel(\"x\")\n",
        "  plt.ylabel(\"y\")\n",
        "  plt.title(\"Función Cubica: y = ax² + bx + c\")\n",
        "  plt.grid()\n",
        "  plt.axhline(y=0, color=\"b\")\n",
        "  plt.axvline(x=0, color=\"b\")\n",
        "  plt.show()"
      ]
    }
  ]
}