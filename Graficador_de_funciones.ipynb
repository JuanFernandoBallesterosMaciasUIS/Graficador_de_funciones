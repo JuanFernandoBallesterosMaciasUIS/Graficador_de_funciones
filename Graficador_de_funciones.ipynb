{
  "nbformat": 4,
  "nbformat_minor": 0,
  "metadata": {
    "colab": {
      "provenance": [],
      "authorship_tag": "ABX9TyP4yhmW7dgIELE02PnelQZ0",
      "include_colab_link": true
    },
    "kernelspec": {
      "name": "python3",
      "display_name": "Python 3"
    },
    "language_info": {
      "name": "python"
    }
  },
  "cells": [
    {
      "cell_type": "markdown",
      "metadata": {
        "id": "view-in-github",
        "colab_type": "text"
      },
      "source": [
        "<a href=\"https://colab.research.google.com/github/JuanFernandoBallesterosMaciasUIS/Graficador_de_funciones/blob/main/Graficador_de_funciones.ipynb\" target=\"_parent\"><img src=\"https://colab.research.google.com/assets/colab-badge.svg\" alt=\"Open In Colab\"/></a>"
      ]
    },
    {
      "cell_type": "markdown",
      "source": [
        "# Graficador de funciones"
      ],
      "metadata": {
        "id": "s3tDBtGpLGUb"
      }
    },
    {
      "cell_type": "code",
      "execution_count": 2,
      "metadata": {
        "colab": {
          "base_uri": "https://localhost:8080/",
          "height": 399
        },
        "id": "p_ukCEn-JvVr",
        "outputId": "0c59e99b-f1dd-4fb3-ddd2-571e6618654c"
      },
      "outputs": [
        {
          "name": "stdout",
          "output_type": "stream",
          "text": [
            "---------------------\n",
            "--- FUNCIÓN LINEAL --\n",
            "----- Y  = mx + b ---\n",
            "---------------------\n",
            "Digite el valor de la pendiente: 1\n",
            "Digite el valor del punto de corte con el eje y: 0\n"
          ]
        },
        {
          "output_type": "display_data",
          "data": {
            "text/plain": [
              "<Figure size 432x288 with 1 Axes>"
            ],
            "image/png": "[encoded data removed]"
          },
          "metadata": {
            "needs_background": "light"
          }
        }
      ],
      "source": [
        "# Programa para graficar una linea recta, con base en la ecuación y = mx + b\n",
        "# m es la pendiente de la recta\n",
        "# b es el punto de corte con eje y\n",
        "\n",
        "# Importamos la libreria matplotlib y numpy y le asignamos un alias\n",
        "import numpy as np\n",
        "import matplotlib.pyplot as plt\n",
        "# Número de puntos a graficar\n",
        "N = 100\n",
        "\n",
        "# Función para calcular los valores de y\n",
        "def funcion_lineal(m, b, x):\n",
        "  return m*x + b\n",
        "\n",
        "# input\n",
        "print(\"---------------------\")\n",
        "print(\"--- FUNCIÓN LINEAL --\")\n",
        "print(\"----- Y  = mx + b ---\")\n",
        "print(\"---------------------\")\n",
        "\n",
        "m = int(input(\"Digite el valor de la pendiente: \"))\n",
        "b = int(input(\"Digite el valor del punto de corte con el eje y: \"))\n",
        "\n",
        "# Processing - graphication\n",
        "x = np.linspace(-10,10,num=N)\n",
        "y = funcion_lineal(m,b,x)\n",
        "\n",
        "plt.plot(x,y, color = \"r\")\n",
        "plt.xlabel(\"x\")\n",
        "plt.ylabel(\"y\")\n",
        "plt.title(\"Función lineal: y = mx + b\")\n",
        "plt.grid()\n",
        "plt.axhline(y=0, color=\"b\")\n",
        "plt.axvline(x=0, color=\"b\")\n",
        "plt.show()"
      ]
    }
  ]
}